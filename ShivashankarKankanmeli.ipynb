{
 "cells": [
  {
   "cell_type": "code",
   "execution_count": 1,
   "id": "4b0f8869",
   "metadata": {},
   "outputs": [],
   "source": [
    "#import libraries\n",
    "import pandas as pd  #Data Manuplation\n",
    "import seaborn as sns # Data Visualization\n",
    "import matplotlib.pyplot as plt #Data Visualization"
   ]
  },
  {
   "cell_type": "code",
   "execution_count": 17,
   "id": "c09b21b3",
   "metadata": {},
   "outputs": [
    {
     "name": "stdout",
     "output_type": "stream",
     "text": [
      "<class 'pandas.core.frame.DataFrame'>\n",
      "RangeIndex: 39717 entries, 0 to 39716\n",
      "Data columns (total 19 columns):\n",
      " #   Column               Non-Null Count  Dtype  \n",
      "---  ------               --------------  -----  \n",
      " 0   loan_amnt            39717 non-null  int64  \n",
      " 1   funded_amnt_inv      39717 non-null  float64\n",
      " 2   term                 39717 non-null  object \n",
      " 3   int_rate             39717 non-null  object \n",
      " 4   installment          39717 non-null  float64\n",
      " 5   grade                39717 non-null  object \n",
      " 6   sub_grade            39717 non-null  object \n",
      " 7   emp_title            37258 non-null  object \n",
      " 8   emp_length           38642 non-null  object \n",
      " 9   home_ownership       39717 non-null  object \n",
      " 10  annual_inc           39717 non-null  float64\n",
      " 11  verification_status  39717 non-null  object \n",
      " 12  issue_d              39717 non-null  object \n",
      " 13  loan_status          39717 non-null  object \n",
      " 14  purpose              39717 non-null  object \n",
      " 15  title                39706 non-null  object \n",
      " 16  revol_bal            39717 non-null  int64  \n",
      " 17  revol_util           39667 non-null  object \n",
      " 18  application_type     39717 non-null  object \n",
      "dtypes: float64(3), int64(2), object(14)\n",
      "memory usage: 5.8+ MB\n"
     ]
    },
    {
     "name": "stderr",
     "output_type": "stream",
     "text": [
      "C:\\Users\\sskan\\AppData\\Local\\Temp\\ipykernel_11404\\1056198622.py:1: DtypeWarning: Columns (47) have mixed types. Specify dtype option on import or set low_memory=False.\n",
      "  loan = pd.read_csv(\"loan.csv\")\n"
     ]
    }
   ],
   "source": [
    "#Uploaded the Loan dataset file (loan.csv) in Jupiter and loded data in dataframe\n",
    "loan = pd.read_csv(\"loan.csv\")\n",
    "#Only considering necessary columns to perform data analysis\n",
    "loan = loan[['loan_amnt','funded_amnt_inv','term','int_rate','installment','grade','sub_grade','emp_title','emp_length','home_ownership','annual_inc','verification_status','issue_d','loan_status','purpose','title','revol_bal','revol_util','application_type']]\n",
    "loan.info()"
   ]
  },
  {
   "cell_type": "code",
   "execution_count": 18,
   "id": "f4e6415c",
   "metadata": {},
   "outputs": [
    {
     "data": {
      "text/plain": [
       "Index(['loan_amnt', 'funded_amnt_inv', 'term', 'int_rate', 'installment',\n",
       "       'grade', 'sub_grade', 'emp_title', 'emp_length', 'home_ownership',\n",
       "       'annual_inc', 'verification_status', 'issue_d', 'loan_status',\n",
       "       'purpose', 'title', 'revol_bal', 'revol_util', 'application_type'],\n",
       "      dtype='object')"
      ]
     },
     "execution_count": 18,
     "metadata": {},
     "output_type": "execute_result"
    }
   ],
   "source": [
    "loan.columns"
   ]
  },
  {
   "cell_type": "code",
   "execution_count": 19,
   "id": "5c4a7d45",
   "metadata": {},
   "outputs": [
    {
     "data": {
      "text/plain": [
       "(39717, 19)"
      ]
     },
     "execution_count": 19,
     "metadata": {},
     "output_type": "execute_result"
    }
   ],
   "source": [
    "# Checking no. of rows and columns\n",
    "loan.shape"
   ]
  },
  {
   "cell_type": "code",
   "execution_count": 20,
   "id": "d252c75f",
   "metadata": {},
   "outputs": [
    {
     "data": {
      "text/html": [
       "<div>\n",
       "<style scoped>\n",
       "    .dataframe tbody tr th:only-of-type {\n",
       "        vertical-align: middle;\n",
       "    }\n",
       "\n",
       "    .dataframe tbody tr th {\n",
       "        vertical-align: top;\n",
       "    }\n",
       "\n",
       "    .dataframe thead th {\n",
       "        text-align: right;\n",
       "    }\n",
       "</style>\n",
       "<table border=\"1\" class=\"dataframe\">\n",
       "  <thead>\n",
       "    <tr style=\"text-align: right;\">\n",
       "      <th></th>\n",
       "      <th>loan_amnt</th>\n",
       "      <th>funded_amnt_inv</th>\n",
       "      <th>term</th>\n",
       "      <th>int_rate</th>\n",
       "      <th>installment</th>\n",
       "      <th>grade</th>\n",
       "      <th>sub_grade</th>\n",
       "      <th>emp_title</th>\n",
       "      <th>emp_length</th>\n",
       "      <th>home_ownership</th>\n",
       "      <th>annual_inc</th>\n",
       "      <th>verification_status</th>\n",
       "      <th>issue_d</th>\n",
       "      <th>loan_status</th>\n",
       "      <th>purpose</th>\n",
       "      <th>title</th>\n",
       "      <th>revol_bal</th>\n",
       "      <th>revol_util</th>\n",
       "      <th>application_type</th>\n",
       "    </tr>\n",
       "  </thead>\n",
       "  <tbody>\n",
       "    <tr>\n",
       "      <th>0</th>\n",
       "      <td>5000</td>\n",
       "      <td>4975.0</td>\n",
       "      <td>36 months</td>\n",
       "      <td>10.65%</td>\n",
       "      <td>162.87</td>\n",
       "      <td>B</td>\n",
       "      <td>B2</td>\n",
       "      <td>NaN</td>\n",
       "      <td>10+ years</td>\n",
       "      <td>RENT</td>\n",
       "      <td>24000.0</td>\n",
       "      <td>Verified</td>\n",
       "      <td>Dec-11</td>\n",
       "      <td>Fully Paid</td>\n",
       "      <td>credit_card</td>\n",
       "      <td>Computer</td>\n",
       "      <td>13648</td>\n",
       "      <td>83.70%</td>\n",
       "      <td>INDIVIDUAL</td>\n",
       "    </tr>\n",
       "    <tr>\n",
       "      <th>1</th>\n",
       "      <td>2500</td>\n",
       "      <td>2500.0</td>\n",
       "      <td>60 months</td>\n",
       "      <td>15.27%</td>\n",
       "      <td>59.83</td>\n",
       "      <td>C</td>\n",
       "      <td>C4</td>\n",
       "      <td>Ryder</td>\n",
       "      <td>&lt; 1 year</td>\n",
       "      <td>RENT</td>\n",
       "      <td>30000.0</td>\n",
       "      <td>Source Verified</td>\n",
       "      <td>Dec-11</td>\n",
       "      <td>Charged Off</td>\n",
       "      <td>car</td>\n",
       "      <td>bike</td>\n",
       "      <td>1687</td>\n",
       "      <td>9.40%</td>\n",
       "      <td>INDIVIDUAL</td>\n",
       "    </tr>\n",
       "    <tr>\n",
       "      <th>2</th>\n",
       "      <td>2400</td>\n",
       "      <td>2400.0</td>\n",
       "      <td>36 months</td>\n",
       "      <td>15.96%</td>\n",
       "      <td>84.33</td>\n",
       "      <td>C</td>\n",
       "      <td>C5</td>\n",
       "      <td>NaN</td>\n",
       "      <td>10+ years</td>\n",
       "      <td>RENT</td>\n",
       "      <td>12252.0</td>\n",
       "      <td>Not Verified</td>\n",
       "      <td>Dec-11</td>\n",
       "      <td>Fully Paid</td>\n",
       "      <td>small_business</td>\n",
       "      <td>real estate business</td>\n",
       "      <td>2956</td>\n",
       "      <td>98.50%</td>\n",
       "      <td>INDIVIDUAL</td>\n",
       "    </tr>\n",
       "    <tr>\n",
       "      <th>3</th>\n",
       "      <td>10000</td>\n",
       "      <td>10000.0</td>\n",
       "      <td>36 months</td>\n",
       "      <td>13.49%</td>\n",
       "      <td>339.31</td>\n",
       "      <td>C</td>\n",
       "      <td>C1</td>\n",
       "      <td>AIR RESOURCES BOARD</td>\n",
       "      <td>10+ years</td>\n",
       "      <td>RENT</td>\n",
       "      <td>49200.0</td>\n",
       "      <td>Source Verified</td>\n",
       "      <td>Dec-11</td>\n",
       "      <td>Fully Paid</td>\n",
       "      <td>other</td>\n",
       "      <td>personel</td>\n",
       "      <td>5598</td>\n",
       "      <td>21%</td>\n",
       "      <td>INDIVIDUAL</td>\n",
       "    </tr>\n",
       "    <tr>\n",
       "      <th>4</th>\n",
       "      <td>3000</td>\n",
       "      <td>3000.0</td>\n",
       "      <td>60 months</td>\n",
       "      <td>12.69%</td>\n",
       "      <td>67.79</td>\n",
       "      <td>B</td>\n",
       "      <td>B5</td>\n",
       "      <td>University Medical Group</td>\n",
       "      <td>1 year</td>\n",
       "      <td>RENT</td>\n",
       "      <td>80000.0</td>\n",
       "      <td>Source Verified</td>\n",
       "      <td>Dec-11</td>\n",
       "      <td>Current</td>\n",
       "      <td>other</td>\n",
       "      <td>Personal</td>\n",
       "      <td>27783</td>\n",
       "      <td>53.90%</td>\n",
       "      <td>INDIVIDUAL</td>\n",
       "    </tr>\n",
       "    <tr>\n",
       "      <th>5</th>\n",
       "      <td>5000</td>\n",
       "      <td>5000.0</td>\n",
       "      <td>36 months</td>\n",
       "      <td>7.90%</td>\n",
       "      <td>156.46</td>\n",
       "      <td>A</td>\n",
       "      <td>A4</td>\n",
       "      <td>Veolia Transportaton</td>\n",
       "      <td>3 years</td>\n",
       "      <td>RENT</td>\n",
       "      <td>36000.0</td>\n",
       "      <td>Source Verified</td>\n",
       "      <td>Dec-11</td>\n",
       "      <td>Fully Paid</td>\n",
       "      <td>wedding</td>\n",
       "      <td>My wedding loan I promise to pay back</td>\n",
       "      <td>7963</td>\n",
       "      <td>28.30%</td>\n",
       "      <td>INDIVIDUAL</td>\n",
       "    </tr>\n",
       "    <tr>\n",
       "      <th>6</th>\n",
       "      <td>7000</td>\n",
       "      <td>7000.0</td>\n",
       "      <td>60 months</td>\n",
       "      <td>15.96%</td>\n",
       "      <td>170.08</td>\n",
       "      <td>C</td>\n",
       "      <td>C5</td>\n",
       "      <td>Southern Star Photography</td>\n",
       "      <td>8 years</td>\n",
       "      <td>RENT</td>\n",
       "      <td>47004.0</td>\n",
       "      <td>Not Verified</td>\n",
       "      <td>Dec-11</td>\n",
       "      <td>Fully Paid</td>\n",
       "      <td>debt_consolidation</td>\n",
       "      <td>Loan</td>\n",
       "      <td>17726</td>\n",
       "      <td>85.60%</td>\n",
       "      <td>INDIVIDUAL</td>\n",
       "    </tr>\n",
       "    <tr>\n",
       "      <th>7</th>\n",
       "      <td>3000</td>\n",
       "      <td>3000.0</td>\n",
       "      <td>36 months</td>\n",
       "      <td>18.64%</td>\n",
       "      <td>109.43</td>\n",
       "      <td>E</td>\n",
       "      <td>E1</td>\n",
       "      <td>MKC Accounting</td>\n",
       "      <td>9 years</td>\n",
       "      <td>RENT</td>\n",
       "      <td>48000.0</td>\n",
       "      <td>Source Verified</td>\n",
       "      <td>Dec-11</td>\n",
       "      <td>Fully Paid</td>\n",
       "      <td>car</td>\n",
       "      <td>Car Downpayment</td>\n",
       "      <td>8221</td>\n",
       "      <td>87.50%</td>\n",
       "      <td>INDIVIDUAL</td>\n",
       "    </tr>\n",
       "    <tr>\n",
       "      <th>8</th>\n",
       "      <td>5600</td>\n",
       "      <td>5600.0</td>\n",
       "      <td>60 months</td>\n",
       "      <td>21.28%</td>\n",
       "      <td>152.39</td>\n",
       "      <td>F</td>\n",
       "      <td>F2</td>\n",
       "      <td>NaN</td>\n",
       "      <td>4 years</td>\n",
       "      <td>OWN</td>\n",
       "      <td>40000.0</td>\n",
       "      <td>Source Verified</td>\n",
       "      <td>Dec-11</td>\n",
       "      <td>Charged Off</td>\n",
       "      <td>small_business</td>\n",
       "      <td>Expand Business &amp; Buy Debt Portfolio</td>\n",
       "      <td>5210</td>\n",
       "      <td>32.60%</td>\n",
       "      <td>INDIVIDUAL</td>\n",
       "    </tr>\n",
       "    <tr>\n",
       "      <th>9</th>\n",
       "      <td>5375</td>\n",
       "      <td>5350.0</td>\n",
       "      <td>60 months</td>\n",
       "      <td>12.69%</td>\n",
       "      <td>121.45</td>\n",
       "      <td>B</td>\n",
       "      <td>B5</td>\n",
       "      <td>Starbucks</td>\n",
       "      <td>&lt; 1 year</td>\n",
       "      <td>RENT</td>\n",
       "      <td>15000.0</td>\n",
       "      <td>Verified</td>\n",
       "      <td>Dec-11</td>\n",
       "      <td>Charged Off</td>\n",
       "      <td>other</td>\n",
       "      <td>Building my credit history.</td>\n",
       "      <td>9279</td>\n",
       "      <td>36.50%</td>\n",
       "      <td>INDIVIDUAL</td>\n",
       "    </tr>\n",
       "  </tbody>\n",
       "</table>\n",
       "</div>"
      ],
      "text/plain": [
       "   loan_amnt  funded_amnt_inv        term int_rate  installment grade  \\\n",
       "0       5000           4975.0   36 months   10.65%       162.87     B   \n",
       "1       2500           2500.0   60 months   15.27%        59.83     C   \n",
       "2       2400           2400.0   36 months   15.96%        84.33     C   \n",
       "3      10000          10000.0   36 months   13.49%       339.31     C   \n",
       "4       3000           3000.0   60 months   12.69%        67.79     B   \n",
       "5       5000           5000.0   36 months    7.90%       156.46     A   \n",
       "6       7000           7000.0   60 months   15.96%       170.08     C   \n",
       "7       3000           3000.0   36 months   18.64%       109.43     E   \n",
       "8       5600           5600.0   60 months   21.28%       152.39     F   \n",
       "9       5375           5350.0   60 months   12.69%       121.45     B   \n",
       "\n",
       "  sub_grade                  emp_title emp_length home_ownership  annual_inc  \\\n",
       "0        B2                        NaN  10+ years           RENT     24000.0   \n",
       "1        C4                      Ryder   < 1 year           RENT     30000.0   \n",
       "2        C5                        NaN  10+ years           RENT     12252.0   \n",
       "3        C1        AIR RESOURCES BOARD  10+ years           RENT     49200.0   \n",
       "4        B5   University Medical Group     1 year           RENT     80000.0   \n",
       "5        A4       Veolia Transportaton    3 years           RENT     36000.0   \n",
       "6        C5  Southern Star Photography    8 years           RENT     47004.0   \n",
       "7        E1            MKC Accounting     9 years           RENT     48000.0   \n",
       "8        F2                        NaN    4 years            OWN     40000.0   \n",
       "9        B5                  Starbucks   < 1 year           RENT     15000.0   \n",
       "\n",
       "  verification_status issue_d  loan_status             purpose  \\\n",
       "0            Verified  Dec-11   Fully Paid         credit_card   \n",
       "1     Source Verified  Dec-11  Charged Off                 car   \n",
       "2        Not Verified  Dec-11   Fully Paid      small_business   \n",
       "3     Source Verified  Dec-11   Fully Paid               other   \n",
       "4     Source Verified  Dec-11      Current               other   \n",
       "5     Source Verified  Dec-11   Fully Paid             wedding   \n",
       "6        Not Verified  Dec-11   Fully Paid  debt_consolidation   \n",
       "7     Source Verified  Dec-11   Fully Paid                 car   \n",
       "8     Source Verified  Dec-11  Charged Off      small_business   \n",
       "9            Verified  Dec-11  Charged Off               other   \n",
       "\n",
       "                                   title  revol_bal revol_util  \\\n",
       "0                               Computer      13648     83.70%   \n",
       "1                                   bike       1687      9.40%   \n",
       "2                   real estate business       2956     98.50%   \n",
       "3                               personel       5598        21%   \n",
       "4                               Personal      27783     53.90%   \n",
       "5  My wedding loan I promise to pay back       7963     28.30%   \n",
       "6                                   Loan      17726     85.60%   \n",
       "7                        Car Downpayment       8221     87.50%   \n",
       "8   Expand Business & Buy Debt Portfolio       5210     32.60%   \n",
       "9            Building my credit history.       9279     36.50%   \n",
       "\n",
       "  application_type  \n",
       "0       INDIVIDUAL  \n",
       "1       INDIVIDUAL  \n",
       "2       INDIVIDUAL  \n",
       "3       INDIVIDUAL  \n",
       "4       INDIVIDUAL  \n",
       "5       INDIVIDUAL  \n",
       "6       INDIVIDUAL  \n",
       "7       INDIVIDUAL  \n",
       "8       INDIVIDUAL  \n",
       "9       INDIVIDUAL  "
      ]
     },
     "execution_count": 20,
     "metadata": {},
     "output_type": "execute_result"
    }
   ],
   "source": [
    "# displaying first 10 rows\n",
    "loan.head(10)"
   ]
  },
  {
   "cell_type": "code",
   "execution_count": 21,
   "id": "3f2f537f",
   "metadata": {},
   "outputs": [
    {
     "name": "stdout",
     "output_type": "stream",
     "text": [
      "<class 'pandas.core.frame.DataFrame'>\n",
      "RangeIndex: 39717 entries, 0 to 39716\n",
      "Data columns (total 19 columns):\n",
      " #   Column               Non-Null Count  Dtype  \n",
      "---  ------               --------------  -----  \n",
      " 0   loan_amnt            39717 non-null  int64  \n",
      " 1   funded_amnt_inv      39717 non-null  float64\n",
      " 2   term                 39717 non-null  object \n",
      " 3   int_rate             39717 non-null  object \n",
      " 4   installment          39717 non-null  float64\n",
      " 5   grade                39717 non-null  object \n",
      " 6   sub_grade            39717 non-null  object \n",
      " 7   emp_title            37258 non-null  object \n",
      " 8   emp_length           38642 non-null  object \n",
      " 9   home_ownership       39717 non-null  object \n",
      " 10  annual_inc           39717 non-null  float64\n",
      " 11  verification_status  39717 non-null  object \n",
      " 12  issue_d              39717 non-null  object \n",
      " 13  loan_status          39717 non-null  object \n",
      " 14  purpose              39717 non-null  object \n",
      " 15  title                39706 non-null  object \n",
      " 16  revol_bal            39717 non-null  int64  \n",
      " 17  revol_util           39667 non-null  object \n",
      " 18  application_type     39717 non-null  object \n",
      "dtypes: float64(3), int64(2), object(14)\n",
      "memory usage: 5.8+ MB\n"
     ]
    }
   ],
   "source": [
    "# Summary of dataframe for necessary columns\n",
    "loan.info()"
   ]
  },
  {
   "cell_type": "code",
   "execution_count": 70,
   "id": "7ea7adf3",
   "metadata": {},
   "outputs": [
    {
     "data": {
      "text/plain": [
       "loan_amnt              0.00\n",
       "funded_amnt_inv        0.00\n",
       "term                   0.00\n",
       "int_rate               0.00\n",
       "installment            0.00\n",
       "grade                  0.00\n",
       "sub_grade              0.00\n",
       "emp_title              3.73\n",
       "emp_length             0.00\n",
       "home_ownership         0.00\n",
       "annual_inc             0.00\n",
       "verification_status    0.00\n",
       "issue_d                0.00\n",
       "loan_status            0.00\n",
       "purpose                0.00\n",
       "title                  0.03\n",
       "revol_bal              0.00\n",
       "revol_util             0.12\n",
       "application_type       0.00\n",
       "dtype: float64"
      ]
     },
     "execution_count": 70,
     "metadata": {},
     "output_type": "execute_result"
    }
   ],
   "source": [
    "# checking missing values in columns\n",
    "round((loan.isnull().sum()/loan.shape[0])*100,2)"
   ]
  },
  {
   "cell_type": "code",
   "execution_count": 23,
   "id": "f89718c8",
   "metadata": {},
   "outputs": [
    {
     "data": {
      "text/html": [
       "<div>\n",
       "<style scoped>\n",
       "    .dataframe tbody tr th:only-of-type {\n",
       "        vertical-align: middle;\n",
       "    }\n",
       "\n",
       "    .dataframe tbody tr th {\n",
       "        vertical-align: top;\n",
       "    }\n",
       "\n",
       "    .dataframe thead th {\n",
       "        text-align: right;\n",
       "    }\n",
       "</style>\n",
       "<table border=\"1\" class=\"dataframe\">\n",
       "  <thead>\n",
       "    <tr style=\"text-align: right;\">\n",
       "      <th></th>\n",
       "      <th>loan_amnt</th>\n",
       "      <th>funded_amnt_inv</th>\n",
       "      <th>installment</th>\n",
       "      <th>annual_inc</th>\n",
       "      <th>revol_bal</th>\n",
       "    </tr>\n",
       "  </thead>\n",
       "  <tbody>\n",
       "    <tr>\n",
       "      <th>count</th>\n",
       "      <td>39717.000000</td>\n",
       "      <td>39717.000000</td>\n",
       "      <td>39717.000000</td>\n",
       "      <td>3.971700e+04</td>\n",
       "      <td>39717.000000</td>\n",
       "    </tr>\n",
       "    <tr>\n",
       "      <th>mean</th>\n",
       "      <td>11219.443815</td>\n",
       "      <td>10397.448868</td>\n",
       "      <td>324.561922</td>\n",
       "      <td>6.896893e+04</td>\n",
       "      <td>13382.528086</td>\n",
       "    </tr>\n",
       "    <tr>\n",
       "      <th>std</th>\n",
       "      <td>7456.670694</td>\n",
       "      <td>7128.450439</td>\n",
       "      <td>208.874874</td>\n",
       "      <td>6.379377e+04</td>\n",
       "      <td>15885.016641</td>\n",
       "    </tr>\n",
       "    <tr>\n",
       "      <th>min</th>\n",
       "      <td>500.000000</td>\n",
       "      <td>0.000000</td>\n",
       "      <td>15.690000</td>\n",
       "      <td>4.000000e+03</td>\n",
       "      <td>0.000000</td>\n",
       "    </tr>\n",
       "    <tr>\n",
       "      <th>25%</th>\n",
       "      <td>5500.000000</td>\n",
       "      <td>5000.000000</td>\n",
       "      <td>167.020000</td>\n",
       "      <td>4.040400e+04</td>\n",
       "      <td>3703.000000</td>\n",
       "    </tr>\n",
       "    <tr>\n",
       "      <th>50%</th>\n",
       "      <td>10000.000000</td>\n",
       "      <td>8975.000000</td>\n",
       "      <td>280.220000</td>\n",
       "      <td>5.900000e+04</td>\n",
       "      <td>8850.000000</td>\n",
       "    </tr>\n",
       "    <tr>\n",
       "      <th>75%</th>\n",
       "      <td>15000.000000</td>\n",
       "      <td>14400.000000</td>\n",
       "      <td>430.780000</td>\n",
       "      <td>8.230000e+04</td>\n",
       "      <td>17058.000000</td>\n",
       "    </tr>\n",
       "    <tr>\n",
       "      <th>max</th>\n",
       "      <td>35000.000000</td>\n",
       "      <td>35000.000000</td>\n",
       "      <td>1305.190000</td>\n",
       "      <td>6.000000e+06</td>\n",
       "      <td>149588.000000</td>\n",
       "    </tr>\n",
       "  </tbody>\n",
       "</table>\n",
       "</div>"
      ],
      "text/plain": [
       "          loan_amnt  funded_amnt_inv   installment    annual_inc  \\\n",
       "count  39717.000000     39717.000000  39717.000000  3.971700e+04   \n",
       "mean   11219.443815     10397.448868    324.561922  6.896893e+04   \n",
       "std     7456.670694      7128.450439    208.874874  6.379377e+04   \n",
       "min      500.000000         0.000000     15.690000  4.000000e+03   \n",
       "25%     5500.000000      5000.000000    167.020000  4.040400e+04   \n",
       "50%    10000.000000      8975.000000    280.220000  5.900000e+04   \n",
       "75%    15000.000000     14400.000000    430.780000  8.230000e+04   \n",
       "max    35000.000000     35000.000000   1305.190000  6.000000e+06   \n",
       "\n",
       "           revol_bal  \n",
       "count   39717.000000  \n",
       "mean    13382.528086  \n",
       "std     15885.016641  \n",
       "min         0.000000  \n",
       "25%      3703.000000  \n",
       "50%      8850.000000  \n",
       "75%     17058.000000  \n",
       "max    149588.000000  "
      ]
     },
     "execution_count": 23,
     "metadata": {},
     "output_type": "execute_result"
    }
   ],
   "source": [
    "#statistical summary of Data\n",
    "loan.describe()"
   ]
  },
  {
   "cell_type": "code",
   "execution_count": 24,
   "id": "bb6fe6bd",
   "metadata": {},
   "outputs": [],
   "source": [
    "#removing % from in_rate column\n",
    "loan[\"int_rate\"] = loan['int_rate'].apply(lambda x: float(x.split(\"%\")[0]))"
   ]
  },
  {
   "cell_type": "code",
   "execution_count": 25,
   "id": "8f790477",
   "metadata": {},
   "outputs": [
    {
     "data": {
      "text/plain": [
       "0        10.65\n",
       "1        15.27\n",
       "2        15.96\n",
       "3        13.49\n",
       "4        12.69\n",
       "         ...  \n",
       "39712     8.07\n",
       "39713    10.28\n",
       "39714     8.07\n",
       "39715     7.43\n",
       "39716    13.75\n",
       "Name: int_rate, Length: 39717, dtype: float64"
      ]
     },
     "execution_count": 25,
     "metadata": {},
     "output_type": "execute_result"
    }
   ],
   "source": [
    "loan[\"int_rate\"]"
   ]
  },
  {
   "cell_type": "code",
   "execution_count": 26,
   "id": "309b0d20",
   "metadata": {},
   "outputs": [
    {
     "data": {
      "text/plain": [
       "0        11 \n",
       "1         0 \n",
       "2        11 \n",
       "3        11 \n",
       "4         1 \n",
       "        ... \n",
       "39712     4 \n",
       "39713     3 \n",
       "39714     0 \n",
       "39715     0 \n",
       "39716     0 \n",
       "Name: emp_length, Length: 39717, dtype: object"
      ]
     },
     "execution_count": 26,
     "metadata": {},
     "output_type": "execute_result"
    }
   ],
   "source": [
    "# cleaning the employee lentgth data\n",
    "loan['emp_length'] = loan['emp_length'].astype(\"str\")\n",
    "loan['emp_length'] = loan['emp_length'].apply(lambda x: x.replace(\"years\",\"\"))\n",
    "loan['emp_length'] = loan['emp_length'].apply(lambda x: x.replace(\"year\",\"\"))\n",
    "loan['emp_length'] = loan['emp_length'].apply(lambda x: x.replace(\"10+\",\"11\"))\n",
    "loan['emp_length'] = loan['emp_length'].apply(lambda x: x.replace(\"< 1\",\"0\"))\n",
    "loan['emp_length']"
   ]
  },
  {
   "cell_type": "code",
   "execution_count": 28,
   "id": "d282ab2e",
   "metadata": {},
   "outputs": [],
   "source": [
    "#removing missing values from 'emp_length' column\n",
    "loan = loan[~(loan['emp_length']==\"nan\")]\n",
    "\n",
    "loan['emp_length']=loan['emp_length'].astype('int')"
   ]
  },
  {
   "cell_type": "code",
   "execution_count": 29,
   "id": "59037dbf",
   "metadata": {},
   "outputs": [],
   "source": [
    "# Binning: convert continuous variable to categorical varaible\n",
    "#low-income: 0-50000\n",
    "#mid-income: 50001-100000\n",
    "#high-income: <100001\n",
    "def annul_inc_conversion(x):\n",
    "  if x<= 50000:\n",
    "    return \"low income\"\n",
    "  elif x> 50000 and x <= 100000:\n",
    "    return \"medium income\"\n",
    "  else:\n",
    "    return \"high income\""
   ]
  },
  {
   "cell_type": "code",
   "execution_count": 30,
   "id": "adaec910",
   "metadata": {},
   "outputs": [
    {
     "data": {
      "text/plain": [
       "0           low income\n",
       "1           low income\n",
       "2           low income\n",
       "3           low income\n",
       "4        medium income\n",
       "             ...      \n",
       "39712      high income\n",
       "39713       low income\n",
       "39714    medium income\n",
       "39715      high income\n",
       "39716       low income\n",
       "Name: annual_inc, Length: 38642, dtype: object"
      ]
     },
     "execution_count": 30,
     "metadata": {},
     "output_type": "execute_result"
    }
   ],
   "source": [
    "loan[\"annual_inc\"] = loan[\"annual_inc\"].apply(lambda x:annul_inc_conversion(x))\n",
    "loan[\"annual_inc\"]"
   ]
  },
  {
   "cell_type": "code",
   "execution_count": 31,
   "id": "13845f84",
   "metadata": {},
   "outputs": [
    {
     "data": {
      "text/plain": [
       "0        medium interst rate\n",
       "1          high interst rate\n",
       "2          high interst rate\n",
       "3          high interst rate\n",
       "4          high interst rate\n",
       "                ...         \n",
       "39712    medium interst rate\n",
       "39713    medium interst rate\n",
       "39714    medium interst rate\n",
       "39715    medium interst rate\n",
       "39716      high interst rate\n",
       "Name: int_rate, Length: 38642, dtype: object"
      ]
     },
     "execution_count": 31,
     "metadata": {},
     "output_type": "execute_result"
    }
   ],
   "source": [
    "#low-intersrt: 7\n",
    "#mid-interst: 7.1-11\n",
    "#high-insterst: 11+\n",
    "def interst_rate_conversion(x):\n",
    "  if x<= 7:\n",
    "    return \"low interst rate\"\n",
    "  elif x>7  and x <= 11:\n",
    "    return \"medium interst rate\"\n",
    "  else:\n",
    "    return \"high interst rate\"\n",
    "loan[\"int_rate\"]= loan[\"int_rate\"].apply(lambda x:interst_rate_conversion(x) )\n",
    "\n",
    "loan[\"int_rate\"]"
   ]
  },
  {
   "cell_type": "code",
   "execution_count": 32,
   "id": "9d45ebae",
   "metadata": {},
   "outputs": [
    {
     "data": {
      "text/plain": [
       "loan_status\n",
       "Fully Paid     32145\n",
       "Charged Off     5399\n",
       "Current         1098\n",
       "Name: count, dtype: int64"
      ]
     },
     "execution_count": 32,
     "metadata": {},
     "output_type": "execute_result"
    }
   ],
   "source": [
    "# Data Analysis\n",
    "loan['loan_status'].value_counts()"
   ]
  },
  {
   "cell_type": "code",
   "execution_count": 36,
   "id": "4a22f8f0",
   "metadata": {},
   "outputs": [
    {
     "data": {
      "text/html": [
       "<div>\n",
       "<style scoped>\n",
       "    .dataframe tbody tr th:only-of-type {\n",
       "        vertical-align: middle;\n",
       "    }\n",
       "\n",
       "    .dataframe tbody tr th {\n",
       "        vertical-align: top;\n",
       "    }\n",
       "\n",
       "    .dataframe thead th {\n",
       "        text-align: right;\n",
       "    }\n",
       "</style>\n",
       "<table border=\"1\" class=\"dataframe\">\n",
       "  <thead>\n",
       "    <tr style=\"text-align: right;\">\n",
       "      <th></th>\n",
       "      <th>loan_amnt</th>\n",
       "      <th>funded_amnt_inv</th>\n",
       "      <th>term</th>\n",
       "      <th>int_rate</th>\n",
       "      <th>installment</th>\n",
       "      <th>grade</th>\n",
       "      <th>sub_grade</th>\n",
       "      <th>emp_title</th>\n",
       "      <th>emp_length</th>\n",
       "      <th>home_ownership</th>\n",
       "      <th>annual_inc</th>\n",
       "      <th>verification_status</th>\n",
       "      <th>issue_d</th>\n",
       "      <th>loan_status</th>\n",
       "      <th>purpose</th>\n",
       "      <th>title</th>\n",
       "      <th>revol_bal</th>\n",
       "      <th>revol_util</th>\n",
       "      <th>application_type</th>\n",
       "    </tr>\n",
       "  </thead>\n",
       "  <tbody>\n",
       "    <tr>\n",
       "      <th>0</th>\n",
       "      <td>5000</td>\n",
       "      <td>4975.0</td>\n",
       "      <td>36 months</td>\n",
       "      <td>medium interst rate</td>\n",
       "      <td>162.87</td>\n",
       "      <td>B</td>\n",
       "      <td>B2</td>\n",
       "      <td>NaN</td>\n",
       "      <td>11</td>\n",
       "      <td>RENT</td>\n",
       "      <td>low income</td>\n",
       "      <td>Verified</td>\n",
       "      <td>Dec-11</td>\n",
       "      <td>Fully Paid</td>\n",
       "      <td>credit_card</td>\n",
       "      <td>Computer</td>\n",
       "      <td>13648</td>\n",
       "      <td>83.70%</td>\n",
       "      <td>INDIVIDUAL</td>\n",
       "    </tr>\n",
       "    <tr>\n",
       "      <th>1</th>\n",
       "      <td>2500</td>\n",
       "      <td>2500.0</td>\n",
       "      <td>60 months</td>\n",
       "      <td>high interst rate</td>\n",
       "      <td>59.83</td>\n",
       "      <td>C</td>\n",
       "      <td>C4</td>\n",
       "      <td>Ryder</td>\n",
       "      <td>0</td>\n",
       "      <td>RENT</td>\n",
       "      <td>low income</td>\n",
       "      <td>Source Verified</td>\n",
       "      <td>Dec-11</td>\n",
       "      <td>Charged Off</td>\n",
       "      <td>car</td>\n",
       "      <td>bike</td>\n",
       "      <td>1687</td>\n",
       "      <td>9.40%</td>\n",
       "      <td>INDIVIDUAL</td>\n",
       "    </tr>\n",
       "    <tr>\n",
       "      <th>2</th>\n",
       "      <td>2400</td>\n",
       "      <td>2400.0</td>\n",
       "      <td>36 months</td>\n",
       "      <td>high interst rate</td>\n",
       "      <td>84.33</td>\n",
       "      <td>C</td>\n",
       "      <td>C5</td>\n",
       "      <td>NaN</td>\n",
       "      <td>11</td>\n",
       "      <td>RENT</td>\n",
       "      <td>low income</td>\n",
       "      <td>Not Verified</td>\n",
       "      <td>Dec-11</td>\n",
       "      <td>Fully Paid</td>\n",
       "      <td>small_business</td>\n",
       "      <td>real estate business</td>\n",
       "      <td>2956</td>\n",
       "      <td>98.50%</td>\n",
       "      <td>INDIVIDUAL</td>\n",
       "    </tr>\n",
       "    <tr>\n",
       "      <th>3</th>\n",
       "      <td>10000</td>\n",
       "      <td>10000.0</td>\n",
       "      <td>36 months</td>\n",
       "      <td>high interst rate</td>\n",
       "      <td>339.31</td>\n",
       "      <td>C</td>\n",
       "      <td>C1</td>\n",
       "      <td>AIR RESOURCES BOARD</td>\n",
       "      <td>11</td>\n",
       "      <td>RENT</td>\n",
       "      <td>low income</td>\n",
       "      <td>Source Verified</td>\n",
       "      <td>Dec-11</td>\n",
       "      <td>Fully Paid</td>\n",
       "      <td>other</td>\n",
       "      <td>personel</td>\n",
       "      <td>5598</td>\n",
       "      <td>21%</td>\n",
       "      <td>INDIVIDUAL</td>\n",
       "    </tr>\n",
       "    <tr>\n",
       "      <th>5</th>\n",
       "      <td>5000</td>\n",
       "      <td>5000.0</td>\n",
       "      <td>36 months</td>\n",
       "      <td>medium interst rate</td>\n",
       "      <td>156.46</td>\n",
       "      <td>A</td>\n",
       "      <td>A4</td>\n",
       "      <td>Veolia Transportaton</td>\n",
       "      <td>3</td>\n",
       "      <td>RENT</td>\n",
       "      <td>low income</td>\n",
       "      <td>Source Verified</td>\n",
       "      <td>Dec-11</td>\n",
       "      <td>Fully Paid</td>\n",
       "      <td>wedding</td>\n",
       "      <td>My wedding loan I promise to pay back</td>\n",
       "      <td>7963</td>\n",
       "      <td>28.30%</td>\n",
       "      <td>INDIVIDUAL</td>\n",
       "    </tr>\n",
       "  </tbody>\n",
       "</table>\n",
       "</div>"
      ],
      "text/plain": [
       "   loan_amnt  funded_amnt_inv        term             int_rate  installment  \\\n",
       "0       5000           4975.0   36 months  medium interst rate       162.87   \n",
       "1       2500           2500.0   60 months    high interst rate        59.83   \n",
       "2       2400           2400.0   36 months    high interst rate        84.33   \n",
       "3      10000          10000.0   36 months    high interst rate       339.31   \n",
       "5       5000           5000.0   36 months  medium interst rate       156.46   \n",
       "\n",
       "  grade sub_grade             emp_title  emp_length home_ownership  \\\n",
       "0     B        B2                   NaN          11           RENT   \n",
       "1     C        C4                 Ryder           0           RENT   \n",
       "2     C        C5                   NaN          11           RENT   \n",
       "3     C        C1   AIR RESOURCES BOARD          11           RENT   \n",
       "5     A        A4  Veolia Transportaton           3           RENT   \n",
       "\n",
       "   annual_inc verification_status issue_d  loan_status         purpose  \\\n",
       "0  low income            Verified  Dec-11   Fully Paid     credit_card   \n",
       "1  low income     Source Verified  Dec-11  Charged Off             car   \n",
       "2  low income        Not Verified  Dec-11   Fully Paid  small_business   \n",
       "3  low income     Source Verified  Dec-11   Fully Paid           other   \n",
       "5  low income     Source Verified  Dec-11   Fully Paid         wedding   \n",
       "\n",
       "                                   title  revol_bal revol_util  \\\n",
       "0                               Computer      13648     83.70%   \n",
       "1                                   bike       1687      9.40%   \n",
       "2                   real estate business       2956     98.50%   \n",
       "3                               personel       5598        21%   \n",
       "5  My wedding loan I promise to pay back       7963     28.30%   \n",
       "\n",
       "  application_type  \n",
       "0       INDIVIDUAL  \n",
       "1       INDIVIDUAL  \n",
       "2       INDIVIDUAL  \n",
       "3       INDIVIDUAL  \n",
       "5       INDIVIDUAL  "
      ]
     },
     "execution_count": 36,
     "metadata": {},
     "output_type": "execute_result"
    }
   ],
   "source": [
    "loan_final = loan[~(loan[\"loan_status\"] == \"Current\")]\n",
    "loan_final.head()"
   ]
  },
  {
   "cell_type": "code",
   "execution_count": null,
   "id": "086b41ac",
   "metadata": {},
   "outputs": [],
   "source": [
    "# Univariate Analysis"
   ]
  },
  {
   "cell_type": "code",
   "execution_count": 34,
   "id": "8372eb1c",
   "metadata": {},
   "outputs": [],
   "source": [
    "# defining method to display values of passed variable\n",
    "def cat_analysis(x,):\n",
    "  print(loan_final[str(x)].value_counts())"
   ]
  },
  {
   "cell_type": "code",
   "execution_count": 37,
   "id": "161da881",
   "metadata": {},
   "outputs": [
    {
     "name": "stdout",
     "output_type": "stream",
     "text": [
      "loan_status\n",
      "Fully Paid     32145\n",
      "Charged Off     5399\n",
      "Name: count, dtype: int64\n"
     ]
    }
   ],
   "source": [
    "# Loan status counts \n",
    "cat_analysis('loan_status')"
   ]
  },
  {
   "cell_type": "code",
   "execution_count": 38,
   "id": "a1effa2a",
   "metadata": {},
   "outputs": [
    {
     "name": "stdout",
     "output_type": "stream",
     "text": [
      "int_rate\n",
      "high interst rate      21813\n",
      "medium interst rate    12122\n",
      "low interst rate        3609\n",
      "Name: count, dtype: int64\n"
     ]
    }
   ],
   "source": [
    "# Interest rates \n",
    "cat_analysis('int_rate')"
   ]
  },
  {
   "cell_type": "code",
   "execution_count": 39,
   "id": "51981843",
   "metadata": {},
   "outputs": [
    {
     "name": "stdout",
     "output_type": "stream",
     "text": [
      "purpose\n",
      "debt_consolidation    17675\n",
      "credit_card            4899\n",
      "other                  3713\n",
      "home_improvement       2785\n",
      "major_purchase         2080\n",
      "small_business         1710\n",
      "car                    1448\n",
      "wedding                 913\n",
      "medical                 656\n",
      "moving                  552\n",
      "house                   354\n",
      "vacation                348\n",
      "educational             317\n",
      "renewable_energy         94\n",
      "Name: count, dtype: int64\n"
     ]
    }
   ],
   "source": [
    "# Purpose counts\n",
    "cat_analysis('purpose')"
   ]
  },
  {
   "cell_type": "code",
   "execution_count": null,
   "id": "85e74212",
   "metadata": {},
   "outputs": [],
   "source": [
    "# Bi-Variate Analysis"
   ]
  },
  {
   "cell_type": "code",
   "execution_count": 40,
   "id": "b06b9565",
   "metadata": {},
   "outputs": [
    {
     "data": {
      "text/html": [
       "<div>\n",
       "<style scoped>\n",
       "    .dataframe tbody tr th:only-of-type {\n",
       "        vertical-align: middle;\n",
       "    }\n",
       "\n",
       "    .dataframe tbody tr th {\n",
       "        vertical-align: top;\n",
       "    }\n",
       "\n",
       "    .dataframe thead th {\n",
       "        text-align: right;\n",
       "    }\n",
       "</style>\n",
       "<table border=\"1\" class=\"dataframe\">\n",
       "  <thead>\n",
       "    <tr style=\"text-align: right;\">\n",
       "      <th></th>\n",
       "      <th>loan_status</th>\n",
       "      <th>int_rate</th>\n",
       "      <th>Count</th>\n",
       "    </tr>\n",
       "  </thead>\n",
       "  <tbody>\n",
       "    <tr>\n",
       "      <th>0</th>\n",
       "      <td>Charged Off</td>\n",
       "      <td>high interst rate</td>\n",
       "      <td>4205</td>\n",
       "    </tr>\n",
       "    <tr>\n",
       "      <th>1</th>\n",
       "      <td>Charged Off</td>\n",
       "      <td>low interst rate</td>\n",
       "      <td>155</td>\n",
       "    </tr>\n",
       "    <tr>\n",
       "      <th>2</th>\n",
       "      <td>Charged Off</td>\n",
       "      <td>medium interst rate</td>\n",
       "      <td>1039</td>\n",
       "    </tr>\n",
       "    <tr>\n",
       "      <th>3</th>\n",
       "      <td>Fully Paid</td>\n",
       "      <td>high interst rate</td>\n",
       "      <td>17608</td>\n",
       "    </tr>\n",
       "    <tr>\n",
       "      <th>4</th>\n",
       "      <td>Fully Paid</td>\n",
       "      <td>low interst rate</td>\n",
       "      <td>3454</td>\n",
       "    </tr>\n",
       "    <tr>\n",
       "      <th>5</th>\n",
       "      <td>Fully Paid</td>\n",
       "      <td>medium interst rate</td>\n",
       "      <td>11083</td>\n",
       "    </tr>\n",
       "  </tbody>\n",
       "</table>\n",
       "</div>"
      ],
      "text/plain": [
       "   loan_status             int_rate  Count\n",
       "0  Charged Off    high interst rate   4205\n",
       "1  Charged Off     low interst rate    155\n",
       "2  Charged Off  medium interst rate   1039\n",
       "3   Fully Paid    high interst rate  17608\n",
       "4   Fully Paid     low interst rate   3454\n",
       "5   Fully Paid  medium interst rate  11083"
      ]
     },
     "execution_count": 40,
     "metadata": {},
     "output_type": "execute_result"
    }
   ],
   "source": [
    "# group by data on Loan status and Interest rate\n",
    "loan_final.groupby(['loan_status','int_rate']).size().reset_index(name='Count')"
   ]
  },
  {
   "cell_type": "code",
   "execution_count": 41,
   "id": "321c5b19",
   "metadata": {},
   "outputs": [
    {
     "data": {
      "text/plain": [
       "loan_status  purpose           \n",
       "Charged Off  car                     155\n",
       "             credit_card             510\n",
       "             debt_consolidation     2679\n",
       "             educational              52\n",
       "             home_improvement        330\n",
       "             house                    59\n",
       "             major_purchase          211\n",
       "             medical                 101\n",
       "             moving                   84\n",
       "             other                   596\n",
       "             renewable_energy         18\n",
       "             small_business          462\n",
       "             vacation                 50\n",
       "             wedding                  92\n",
       "Fully Paid   car                    1293\n",
       "             credit_card            4389\n",
       "             debt_consolidation    14996\n",
       "             educational             265\n",
       "             home_improvement       2455\n",
       "             house                   295\n",
       "             major_purchase         1869\n",
       "             medical                 555\n",
       "             moving                  468\n",
       "             other                  3117\n",
       "             renewable_energy         76\n",
       "             small_business         1248\n",
       "             vacation                298\n",
       "             wedding                 821\n",
       "dtype: int64"
      ]
     },
     "execution_count": 41,
     "metadata": {},
     "output_type": "execute_result"
    }
   ],
   "source": [
    "# group by data on Loan status and purpose\n",
    "loan_final.groupby(['loan_status','purpose']).size()"
   ]
  },
  {
   "cell_type": "code",
   "execution_count": null,
   "id": "ff4ac794",
   "metadata": {},
   "outputs": [],
   "source": [
    "# Multi-Variate Analysis"
   ]
  },
  {
   "cell_type": "code",
   "execution_count": 42,
   "id": "9c6f6217",
   "metadata": {},
   "outputs": [
    {
     "data": {
      "text/html": [
       "<div>\n",
       "<style scoped>\n",
       "    .dataframe tbody tr th:only-of-type {\n",
       "        vertical-align: middle;\n",
       "    }\n",
       "\n",
       "    .dataframe tbody tr th {\n",
       "        vertical-align: top;\n",
       "    }\n",
       "\n",
       "    .dataframe thead th {\n",
       "        text-align: right;\n",
       "    }\n",
       "</style>\n",
       "<table border=\"1\" class=\"dataframe\">\n",
       "  <thead>\n",
       "    <tr style=\"text-align: right;\">\n",
       "      <th></th>\n",
       "      <th>loan_status</th>\n",
       "      <th>annual_inc</th>\n",
       "      <th>int_rate</th>\n",
       "      <th>Count</th>\n",
       "    </tr>\n",
       "  </thead>\n",
       "  <tbody>\n",
       "    <tr>\n",
       "      <th>15</th>\n",
       "      <td>Fully Paid</td>\n",
       "      <td>medium income</td>\n",
       "      <td>high interst rate</td>\n",
       "      <td>8187</td>\n",
       "    </tr>\n",
       "    <tr>\n",
       "      <th>12</th>\n",
       "      <td>Fully Paid</td>\n",
       "      <td>low income</td>\n",
       "      <td>high interst rate</td>\n",
       "      <td>6564</td>\n",
       "    </tr>\n",
       "    <tr>\n",
       "      <th>17</th>\n",
       "      <td>Fully Paid</td>\n",
       "      <td>medium income</td>\n",
       "      <td>medium interst rate</td>\n",
       "      <td>5110</td>\n",
       "    </tr>\n",
       "    <tr>\n",
       "      <th>14</th>\n",
       "      <td>Fully Paid</td>\n",
       "      <td>low income</td>\n",
       "      <td>medium interst rate</td>\n",
       "      <td>4451</td>\n",
       "    </tr>\n",
       "    <tr>\n",
       "      <th>9</th>\n",
       "      <td>Fully Paid</td>\n",
       "      <td>high income</td>\n",
       "      <td>high interst rate</td>\n",
       "      <td>2857</td>\n",
       "    </tr>\n",
       "    <tr>\n",
       "      <th>6</th>\n",
       "      <td>Charged Off</td>\n",
       "      <td>medium income</td>\n",
       "      <td>high interst rate</td>\n",
       "      <td>1892</td>\n",
       "    </tr>\n",
       "    <tr>\n",
       "      <th>3</th>\n",
       "      <td>Charged Off</td>\n",
       "      <td>low income</td>\n",
       "      <td>high interst rate</td>\n",
       "      <td>1823</td>\n",
       "    </tr>\n",
       "    <tr>\n",
       "      <th>16</th>\n",
       "      <td>Fully Paid</td>\n",
       "      <td>medium income</td>\n",
       "      <td>low interst rate</td>\n",
       "      <td>1764</td>\n",
       "    </tr>\n",
       "    <tr>\n",
       "      <th>11</th>\n",
       "      <td>Fully Paid</td>\n",
       "      <td>high income</td>\n",
       "      <td>medium interst rate</td>\n",
       "      <td>1522</td>\n",
       "    </tr>\n",
       "    <tr>\n",
       "      <th>13</th>\n",
       "      <td>Fully Paid</td>\n",
       "      <td>low income</td>\n",
       "      <td>low interst rate</td>\n",
       "      <td>1225</td>\n",
       "    </tr>\n",
       "    <tr>\n",
       "      <th>5</th>\n",
       "      <td>Charged Off</td>\n",
       "      <td>low income</td>\n",
       "      <td>medium interst rate</td>\n",
       "      <td>525</td>\n",
       "    </tr>\n",
       "    <tr>\n",
       "      <th>0</th>\n",
       "      <td>Charged Off</td>\n",
       "      <td>high income</td>\n",
       "      <td>high interst rate</td>\n",
       "      <td>490</td>\n",
       "    </tr>\n",
       "    <tr>\n",
       "      <th>10</th>\n",
       "      <td>Fully Paid</td>\n",
       "      <td>high income</td>\n",
       "      <td>low interst rate</td>\n",
       "      <td>465</td>\n",
       "    </tr>\n",
       "    <tr>\n",
       "      <th>8</th>\n",
       "      <td>Charged Off</td>\n",
       "      <td>medium income</td>\n",
       "      <td>medium interst rate</td>\n",
       "      <td>421</td>\n",
       "    </tr>\n",
       "    <tr>\n",
       "      <th>2</th>\n",
       "      <td>Charged Off</td>\n",
       "      <td>high income</td>\n",
       "      <td>medium interst rate</td>\n",
       "      <td>93</td>\n",
       "    </tr>\n",
       "    <tr>\n",
       "      <th>4</th>\n",
       "      <td>Charged Off</td>\n",
       "      <td>low income</td>\n",
       "      <td>low interst rate</td>\n",
       "      <td>90</td>\n",
       "    </tr>\n",
       "    <tr>\n",
       "      <th>7</th>\n",
       "      <td>Charged Off</td>\n",
       "      <td>medium income</td>\n",
       "      <td>low interst rate</td>\n",
       "      <td>59</td>\n",
       "    </tr>\n",
       "    <tr>\n",
       "      <th>1</th>\n",
       "      <td>Charged Off</td>\n",
       "      <td>high income</td>\n",
       "      <td>low interst rate</td>\n",
       "      <td>6</td>\n",
       "    </tr>\n",
       "  </tbody>\n",
       "</table>\n",
       "</div>"
      ],
      "text/plain": [
       "    loan_status     annual_inc             int_rate  Count\n",
       "15   Fully Paid  medium income    high interst rate   8187\n",
       "12   Fully Paid     low income    high interst rate   6564\n",
       "17   Fully Paid  medium income  medium interst rate   5110\n",
       "14   Fully Paid     low income  medium interst rate   4451\n",
       "9    Fully Paid    high income    high interst rate   2857\n",
       "6   Charged Off  medium income    high interst rate   1892\n",
       "3   Charged Off     low income    high interst rate   1823\n",
       "16   Fully Paid  medium income     low interst rate   1764\n",
       "11   Fully Paid    high income  medium interst rate   1522\n",
       "13   Fully Paid     low income     low interst rate   1225\n",
       "5   Charged Off     low income  medium interst rate    525\n",
       "0   Charged Off    high income    high interst rate    490\n",
       "10   Fully Paid    high income     low interst rate    465\n",
       "8   Charged Off  medium income  medium interst rate    421\n",
       "2   Charged Off    high income  medium interst rate     93\n",
       "4   Charged Off     low income     low interst rate     90\n",
       "7   Charged Off  medium income     low interst rate     59\n",
       "1   Charged Off    high income     low interst rate      6"
      ]
     },
     "execution_count": 42,
     "metadata": {},
     "output_type": "execute_result"
    }
   ],
   "source": [
    "# group by data on Loan status, Annual Income and Interest rate\n",
    "loan_final.groupby(['loan_status','annual_inc','int_rate']).size().reset_index(name='Count').sort_values('Count',ascending=False)"
   ]
  },
  {
   "cell_type": "code",
   "execution_count": 43,
   "id": "b779c631",
   "metadata": {},
   "outputs": [
    {
     "data": {
      "text/plain": [
       "loan_status  annual_inc     int_rate           \n",
       "Charged Off  high income    high interst rate       490\n",
       "                            low interst rate          6\n",
       "                            medium interst rate      93\n",
       "             low income     high interst rate      1823\n",
       "                            low interst rate         90\n",
       "                            medium interst rate     525\n",
       "             medium income  high interst rate      1892\n",
       "                            low interst rate         59\n",
       "                            medium interst rate     421\n",
       "Fully Paid   high income    high interst rate      2857\n",
       "                            low interst rate        465\n",
       "                            medium interst rate    1522\n",
       "             low income     high interst rate      6564\n",
       "                            low interst rate       1225\n",
       "                            medium interst rate    4451\n",
       "             medium income  high interst rate      8187\n",
       "                            low interst rate       1764\n",
       "                            medium interst rate    5110\n",
       "dtype: int64"
      ]
     },
     "execution_count": 43,
     "metadata": {},
     "output_type": "execute_result"
    }
   ],
   "source": [
    "# group by data on Loan status, Annual Income and Interest rate\n",
    "loan_final.groupby(['loan_status','annual_inc','int_rate']).size()"
   ]
  },
  {
   "cell_type": "code",
   "execution_count": 52,
   "id": "47b99f47",
   "metadata": {},
   "outputs": [],
   "source": [
    "# univariate Analysis Plots"
   ]
  },
  {
   "cell_type": "code",
   "execution_count": 57,
   "id": "6eb2cbfb",
   "metadata": {},
   "outputs": [],
   "source": [
    "# common method to display plots\n",
    "def univarite_categorical_analysis(column):\n",
    "  sns.countplot(x=loan_final[str(column)])"
   ]
  },
  {
   "cell_type": "code",
   "execution_count": 58,
   "id": "87e0ac3d",
   "metadata": {},
   "outputs": [
    {
     "data": {
      "image/png": "[encoded data removed]",
      "text/plain": [
       "<Figure size 640x480 with 1 Axes>"
      ]
     },
     "metadata": {},
     "output_type": "display_data"
    }
   ],
   "source": [
    "univarite_categorical_analysis(\"loan_status\")"
   ]
  },
  {
   "cell_type": "code",
   "execution_count": 66,
   "id": "acd99e21",
   "metadata": {},
   "outputs": [
    {
     "data": {
      "image/png": "[encoded data removed]",
      "text/plain": [
       "<Figure size 640x480 with 1 Axes>"
      ]
     },
     "metadata": {},
     "output_type": "display_data"
    }
   ],
   "source": [
    "univarite_categorical_analysis('int_rate')"
   ]
  },
  {
   "cell_type": "code",
   "execution_count": 74,
   "id": "c7b728bb",
   "metadata": {
    "scrolled": true
   },
   "outputs": [
    {
     "data": {
      "image/png": "[encoded data removed]",
      "text/plain": [
       "<Figure size 2000x300 with 1 Axes>"
      ]
     },
     "metadata": {},
     "output_type": "display_data"
    }
   ],
   "source": [
    "plt.figure(figsize=(20,3))\n",
    "univarite_categorical_analysis('purpose')\n",
    "plt.show()"
   ]
  },
  {
   "cell_type": "code",
   "execution_count": 69,
   "id": "de6855ee",
   "metadata": {},
   "outputs": [
    {
     "data": {
      "text/plain": [
       "<Axes: xlabel='loan_amnt', ylabel='Count'>"
      ]
     },
     "execution_count": 69,
     "metadata": {},
     "output_type": "execute_result"
    },
    {
     "data": {
      "image/png": "[encoded data removed]",
      "text/plain": [
       "<Figure size 640x480 with 1 Axes>"
      ]
     },
     "metadata": {},
     "output_type": "display_data"
    }
   ],
   "source": [
    "sns.histplot(x='loan_amnt',data=loan_final)"
   ]
  },
  {
   "cell_type": "code",
   "execution_count": null,
   "id": "e0836edd",
   "metadata": {},
   "outputs": [],
   "source": [
    "# Bivariate Analysis Plots"
   ]
  },
  {
   "cell_type": "code",
   "execution_count": 60,
   "id": "9ee44b69",
   "metadata": {
    "scrolled": true
   },
   "outputs": [
    {
     "data": {
      "text/plain": [
       "<Axes: xlabel='loan_status'>"
      ]
     },
     "execution_count": 60,
     "metadata": {},
     "output_type": "execute_result"
    },
    {
     "data": {
      "image/png": "[encoded data removed]",
      "text/plain": [
       "<Figure size 640x480 with 1 Axes>"
      ]
     },
     "metadata": {},
     "output_type": "display_data"
    }
   ],
   "source": [
    "loan_final.groupby(['loan_status','int_rate']).size().unstack().plot(kind='bar',stacked=True)"
   ]
  },
  {
   "cell_type": "code",
   "execution_count": null,
   "id": "cf33b668",
   "metadata": {},
   "outputs": [],
   "source": [
    "# Multivariate Analysis Plots"
   ]
  },
  {
   "cell_type": "code",
   "execution_count": 61,
   "id": "73855f29",
   "metadata": {},
   "outputs": [
    {
     "data": {
      "text/plain": [
       "<Axes: xlabel='int_rate', ylabel='loan_amnt'>"
      ]
     },
     "execution_count": 61,
     "metadata": {},
     "output_type": "execute_result"
    },
    {
     "data": {
      "image/png": "[encoded data removed]",
      "text/plain": [
       "<Figure size 640x480 with 1 Axes>"
      ]
     },
     "metadata": {},
     "output_type": "display_data"
    }
   ],
   "source": [
    "sns.boxplot(x='int_rate', y= 'loan_amnt', hue= 'loan_status',data= loan_final)"
   ]
  },
  {
   "cell_type": "code",
   "execution_count": 64,
   "id": "4eca301a",
   "metadata": {
    "scrolled": true
   },
   "outputs": [
    {
     "data": {
      "text/plain": [
       "<Axes: xlabel='loan_status'>"
      ]
     },
     "execution_count": 64,
     "metadata": {},
     "output_type": "execute_result"
    },
    {
     "data": {
      "image/png": "[encoded data removed]",
      "text/plain": [
       "<Figure size 640x480 with 1 Axes>"
      ]
     },
     "metadata": {},
     "output_type": "display_data"
    }
   ],
   "source": [
    "loan_final.groupby(['loan_status','term']).size().unstack().plot(kind='bar',stacked=True)"
   ]
  }
 ],
 "metadata": {
  "kernelspec": {
   "display_name": "Python 3 (ipykernel)",
   "language": "python",
   "name": "python3"
  },
  "language_info": {
   "codemirror_mode": {
    "name": "ipython",
    "version": 3
   },
   "file_extension": ".py",
   "mimetype": "text/x-python",
   "name": "python",
   "nbconvert_exporter": "python",
   "pygments_lexer": "ipython3",
   "version": "3.11.5"
  }
 },
 "nbformat": 4,
 "nbformat_minor": 5
}
